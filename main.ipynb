{
 "cells": [
  {
   "cell_type": "code",
   "execution_count": 1,
   "metadata": {},
   "outputs": [],
   "source": [
    "#carregamento das bibliotecas e obtenção da pag html\n",
    "import requests\n",
    "from bs4 import BeautifulSoup\n",
    "from datetime import datetime\n",
    "from requests.exceptions import MissingSchema, RequestException\n",
    "import pandas as pd\n",
    "\n",
    "# url = 'https://www.sefaz.mt.gov.br/nfce/consultanfce?p=51230809477652008502651080000343851912768157|2|1|1|BE090D965611C41F345B1B6CF45050D1DB7EF805'\n",
    "url ='https://www.sefaz.mt.gov.br/nfce/consultanfce?p=51240117226232002702650060000800991660419100|2|1|1|C22AE3E7BAFC889737E51EA38167C4067DD01BC4'\n"
   ]
  },
  {
   "cell_type": "code",
   "execution_count": null,
   "metadata": {},
   "outputs": [],
   "source": []
  }
 ],
 "metadata": {
  "kernelspec": {
   "display_name": ".venv",
   "language": "python",
   "name": "python3"
  },
  "language_info": {
   "codemirror_mode": {
    "name": "ipython",
    "version": 3
   },
   "file_extension": ".py",
   "mimetype": "text/x-python",
   "name": "python",
   "nbconvert_exporter": "python",
   "pygments_lexer": "ipython3",
   "version": "3.12.1"
  }
 },
 "nbformat": 4,
 "nbformat_minor": 2
}
